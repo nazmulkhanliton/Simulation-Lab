{
 "cells": [
  {
   "cell_type": "markdown",
   "metadata": {
    "colab_type": "text",
    "id": "EalDqujWbCRn"
   },
   "source": [
    "'''\n",
    "Conway's Game of Life\n",
    "Game Rules link: https://en.wikipedia.org/wiki/Conway%27s_Game_of_Life\n",
    "'''"
   ]
  },
  {
   "cell_type": "code",
   "execution_count": 10,
   "metadata": {
    "colab": {},
    "colab_type": "code",
    "id": "AJK0omraaDVX"
   },
   "outputs": [],
   "source": [
    "# Import libaries \n",
    "import numpy as np\n",
    "import matplotlib.pyplot as plt\n",
    "import matplotlib.animation as animation"
   ]
  },
  {
   "cell_type": "code",
   "execution_count": 2,
   "metadata": {
    "colab": {
     "base_uri": "https://localhost:8080/",
     "height": 391
    },
    "colab_type": "code",
    "id": "8_AIDqBRZ7L5",
    "outputId": "062c3e2d-93a2-4776-fed5-f5c9a6bbf3e7"
   },
   "outputs": [
    {
     "name": "stdout",
     "output_type": "stream",
     "text": [
      "[[0. 0. 0. ... 0. 0. 0.]\n",
      " [0. 0. 0. ... 0. 0. 0.]\n",
      " [0. 0. 0. ... 0. 0. 0.]\n",
      " ...\n",
      " [0. 0. 0. ... 0. 0. 0.]\n",
      " [0. 0. 0. ... 0. 0. 0.]\n",
      " [0. 0. 0. ... 0. 0. 0.]]\n"
     ]
    },
    {
     "data": {
      "image/png": "[encoded data removed]",
      "text/plain": [
       "<Figure size 432x288 with 1 Axes>"
      ]
     },
     "metadata": {
      "needs_background": "light"
     },
     "output_type": "display_data"
    }
   ],
   "source": [
    "# Initialise the universe\n",
    "universe = np.zeros((100, 100))\n",
    "print(universe)\n",
    "\n",
    "plt.imshow(universe, cmap='binary')\n",
    "plt.show()"
   ]
  },
  {
   "cell_type": "code",
   "execution_count": 3,
   "metadata": {
    "colab": {},
    "colab_type": "code",
    "id": "rO7tfe2ViYCr"
   },
   "outputs": [],
   "source": [
    "# Different Seeds\n",
    "seeds = {\n",
    "    \"diehard\": [\n",
    "        [0, 0, 0, 0, 0, 0, 1, 0],\n",
    "        [1, 1, 0, 0, 0, 0, 0, 0],\n",
    "        [0, 1, 0, 0, 0, 1, 1, 1],\n",
    "    ],\n",
    "    \"boat\": [[1, 1, 0], [1, 0, 1], [0, 1, 0]],\n",
    "    \"r_pentomino\": [[0, 1, 1], [1, 1, 0], [0, 1, 0]],\n",
    "    \"pentadecathlon\": [\n",
    "        [1, 1, 1, 1, 1, 1, 1, 1],\n",
    "        [1, 0, 1, 1, 1, 1, 0, 1],\n",
    "        [1, 1, 1, 1, 1, 1, 1, 1],\n",
    "    ],\n",
    "    \"beacon\": [[1, 1, 0, 0], [1, 1, 0, 0], [0, 0, 1, 1], [0, 0, 1, 1]],\n",
    "    \"acorn\": [[0, 1, 0, 0, 0, 0, 0], [0, 0, 0, 1, 0, 0, 0], [1, 1, 0, 0, 1, 1, 1]],\n",
    "    \"spaceship\": [[0, 0, 1, 1, 0], [1, 1, 0, 1, 1], [1, 1, 1, 1, 0], [0, 1, 1, 0, 0]],\n",
    "    \"block_switch_engine\": [\n",
    "        [0, 0, 0, 0, 0, 0, 1, 0],\n",
    "        [0, 0, 0, 0, 1, 0, 1, 1],\n",
    "        [0, 0, 0, 0, 1, 0, 1, 0],\n",
    "        [0, 0, 0, 0, 1, 0, 0, 0],\n",
    "        [0, 0, 1, 0, 0, 0, 0, 0],\n",
    "        [1, 0, 1, 0, 0, 0, 0, 0],\n",
    "    ],\n",
    "    \"glider_gun\": [[0,0,0,0,0,0,0,0,0,0,0,0,0,0,0,0,0,0,0,0,0,0,0,0,1,0,0,0,0,0,0,0,0,0,0,0],\n",
    " [0,0,0,0,0,0,0,0,0,0,0,0,0,0,0,0,0,0,0,0,0,0,1,0,1,0,0,0,0,0,0,0,0,0,0,0],\n",
    " [0,0,0,0,0,0,0,0,0,0,0,0,1,1,0,0,0,0,0,0,1,1,0,0,0,0,0,0,0,0,0,0,0,0,1,1],\n",
    " [0,0,0,0,0,0,0,0,0,0,0,1,0,0,0,1,0,0,0,0,1,1,0,0,0,0,0,0,0,0,0,0,0,0,1,1],\n",
    " [1,1,0,0,0,0,0,0,0,0,1,0,0,0,0,0,1,0,0,0,1,1,0,0,0,0,0,0,0,0,0,0,0,0,0,0],\n",
    " [1,1,0,0,0,0,0,0,0,0,1,0,0,0,1,0,1,1,0,0,0,0,1,0,1,0,0,0,0,0,0,0,0,0,0,0],\n",
    " [0,0,0,0,0,0,0,0,0,0,1,0,0,0,0,0,1,0,0,0,0,0,0,0,1,0,0,0,0,0,0,0,0,0,0,0],\n",
    " [0,0,0,0,0,0,0,0,0,0,0,1,0,0,0,1,0,0,0,0,0,0,0,0,0,0,0,0,0,0,0,0,0,0,0,0],\n",
    " [0,0,0,0,0,0,0,0,0,0,0,0,1,1,0,0,0,0,0,0,0,0,0,0,0,0,0,0,0,0,0,0,0,0,0,0]],\n",
    "\n",
    " \"diamond\": [\n",
    "        [0, 0, 0, 0, 1, 1, 1, 1, 0, 0, 0, 0],\n",
    "        [0, 0, 0, 0, 0, 0, 0, 0, 0, 0, 0, 0],\n",
    "        [0, 0, 1, 1, 1, 1, 1, 1, 1, 1, 0, 0],\n",
    "        [0, 0, 0, 0, 0, 0, 0, 0, 0, 0, 0, 0],\n",
    "        [1, 1, 1, 1, 1, 1, 1, 1, 1, 1, 1, 1],\n",
    "        [0, 0, 0, 0, 0, 0, 0, 0, 0, 0, 0, 0],\n",
    "        [0, 0, 1, 1, 1, 1, 1, 1, 1, 1, 0, 0],\n",
    "        [0, 0, 0, 0, 0, 0, 0, 0, 0, 0, 0, 0],\n",
    "        [0, 0, 0, 0, 1, 1, 1, 1, 0, 0, 0, 0],\n",
    "    ],\n",
    "    \"infinite\": [\n",
    "        [1, 1, 1, 0, 1],\n",
    "        [1, 0, 0, 0, 0],\n",
    "        [0, 0, 0, 1, 1],\n",
    "        [0, 1, 1, 0, 1],\n",
    "        [1, 0, 1, 0, 1],\n",
    "    ],\n",
    "}"
   ]
  },
  {
   "cell_type": "code",
   "execution_count": 4,
   "metadata": {
    "colab": {},
    "colab_type": "code",
    "id": "StKtC6oqaEoP"
   },
   "outputs": [],
   "source": [
    "# Initialise the seed\n",
    "\n",
    "\n",
    "seed_array = np.array([[1,1,0],[1,0,1],[0,1,0]])\n",
    "\n",
    "x_start, y_start = 40, 40\n",
    "x_end, y_end = x_start + seed_array.shape[0], y_start + seed_array.shape[1]\n",
    "universe[x_start:x_end, y_start:y_end] = seed_array\n",
    "\n",
    "#plt.imshow(universe, cmap='binary')\n",
    "#plt.show()"
   ]
  },
  {
   "cell_type": "code",
   "execution_count": 5,
   "metadata": {
    "colab": {},
    "colab_type": "code",
    "id": "q5PoIEMlaIp3"
   },
   "outputs": [],
   "source": [
    "def survival(x, y, universe):\n",
    "    \"\"\"\n",
    "    Compute one iteration of Life for one cell.\n",
    "    :param x: x coordinate of cell in the universe\n",
    "    :type x: int\n",
    "    :param y: y coordinate of cell in the universe\n",
    "    :type y: int\n",
    "    :param universe: the universe of cells\n",
    "    :type universe: np.ndarray\n",
    "    \"\"\"\n",
    "    # Count number of neighbours\n",
    "    num_neighbours = np.sum(universe[x -1 : x + 2, y -1 : y + 2]) - universe[x,y]\n",
    "    # The rules of Life\n",
    "    if universe[x, y] and not 2 <= num_neighbours <= 3:\n",
    "      return 0\n",
    "    elif num_neighbours == 3:\n",
    "      return 1\n",
    "    return universe[x,y]\n",
    "    "
   ]
  },
  {
   "cell_type": "code",
   "execution_count": 6,
   "metadata": {
    "colab": {},
    "colab_type": "code",
    "id": "B5M9w96DaNil"
   },
   "outputs": [],
   "source": [
    "def generation(universe):\n",
    "    \"\"\"\n",
    "    Compute one iteration of Life for the universe.\n",
    "    :param universe: initial universe of cells\n",
    "    :type universe: np.ndarray\n",
    "    :return: updated universe of cells\n",
    "    :rtype: np.ndarray\n",
    "    \"\"\"\n",
    "    new_universe = np.copy(universe)\n",
    "    # Apply the survival function to every cell in the universe\n",
    "    \n",
    "    for i in range(universe.shape[0]):\n",
    "      for j in range(universe.shape[1]):\n",
    "        new_universe[i, j] = survival(i, j, universe)    \n",
    "    return new_universe"
   ]
  },
  {
   "cell_type": "code",
   "execution_count": 0,
   "metadata": {
    "colab": {
     "base_uri": "https://localhost:8080/",
     "height": 731
    },
    "colab_type": "code",
    "id": "jMxCWB5laOz5",
    "outputId": "a7a0da30-0288-4aba-fbee-7cf44f85f058"
   },
   "outputs": [
    {
     "name": "stdout",
     "output_type": "stream",
     "text": [
      "[0 0 0 0 0 0 1 0]\n",
      "[1 1 0 0 0 0 0 0]\n",
      "[0 1 0 0 0 1 1 1]\n",
      "[1 1 0]\n",
      "[1 0 1]\n",
      "[0 1 0]\n",
      "[0 1 1]\n",
      "[1 1 0]\n",
      "[0 1 0]\n",
      "[1 1 1 1 1 1 1 1]\n",
      "[1 0 1 1 1 1 0 1]\n",
      "[1 1 1 1 1 1 1 1]\n",
      "[1 1 0 0]\n",
      "[1 1 0 0]\n",
      "[0 0 1 1]\n",
      "[0 0 1 1]\n",
      "[0 1 0 0 0 0 0]\n",
      "[0 0 0 1 0 0 0]\n",
      "[1 1 0 0 1 1 1]\n",
      "[0 0 1 1 0]\n",
      "[1 1 0 1 1]\n",
      "[1 1 1 1 0]\n",
      "[0 1 1 0 0]\n",
      "[0 0 0 0 0 0 1 0]\n",
      "[0 0 0 0 1 0 1 1]\n",
      "[0 0 0 0 1 0 1 0]\n",
      "[0 0 0 0 1 0 0 0]\n",
      "[0 0 1 0 0 0 0 0]\n",
      "[1 0 1 0 0 0 0 0]\n",
      "[1 1 1 0 1]\n",
      "[1 0 0 0 0]\n",
      "[0 0 0 1 1]\n",
      "[0 1 1 0 1]\n",
      "[1 0 1 0 1]\n",
      "khan\n",
      "[[0. 0. 0. ... 0. 0. 0.]\n",
      " [0. 0. 0. ... 0. 0. 0.]\n",
      " [0. 0. 0. ... 0. 0. 0.]\n",
      " ...\n",
      " [0. 0. 0. ... 0. 0. 0.]\n",
      " [0. 0. 0. ... 0. 0. 0.]\n",
      " [0. 0. 0. ... 0. 0. 0.]]\n"
     ]
    }
   ],
   "source": [
    "# will be change\n",
    "# for key,values in seeds.items():\n",
    "#   for v in values:\n",
    "#     seed_array = np.array(v)\n",
    "#     print(seed_array)\n",
    "#   x_start, y_start = 40, 40\n",
    "#   x_end, y_end = x_start + seed_array.shape[0], y_start + seed_array.shape[0]\n",
    "#   universe[x_start:x_end, y_start:y_end] = seed_array\n",
    "#   universe = generation(universe)\n",
    "# #plt.imshow(universe, cmap='binary')\n",
    "# #plt.show()\n",
    "# print(\"khan\")\n",
    "# print(universe)"
   ]
  },
  {
   "cell_type": "code",
   "execution_count": 11,
   "metadata": {
    "colab": {},
    "colab_type": "code",
    "id": "7EILZykwaQ0w"
   },
   "outputs": [
    {
     "name": "stderr",
     "output_type": "stream",
     "text": [
      "MovieWriter imagemagick unavailable; trying to use <class 'matplotlib.animation.PillowWriter'> instead.\n"
     ]
    },
    {
     "data": {
      "image/png": "[encoded data removed]",
      "text/plain": [
       "<Figure size 600x400 with 1 Axes>"
      ]
     },
     "metadata": {
      "needs_background": "light"
     },
     "output_type": "display_data"
    }
   ],
   "source": [
    "# For Animation\n",
    "fig = plt.figure(dpi = 100) # image quality in DPI\n",
    "plt.axis(\"off\")\n",
    "# number of universe iterations\n",
    "n_generations = 500\n",
    "ims = []\n",
    "for i in range(n_generations):\n",
    "    ims.append((plt.imshow(universe, cmap=\"Purples\"),))\n",
    "    universe = generation(universe)\n",
    "# interval (in milliseconds) between iterations\n",
    "im_ani = animation.ArtistAnimation(fig, ims, interval=50, repeat_delay=3000, blit=True)\n",
    "im_ani.save(\"hello.gif\", writer=\"imagemagick\")"
   ]
  },
  {
   "cell_type": "code",
   "execution_count": null,
   "metadata": {
    "colab": {
     "base_uri": "https://localhost:8080/",
     "height": 1000
    },
    "colab_type": "code",
    "id": "rJLjDQKB6r4S",
    "outputId": "6d78f9fd-a0e9-4198-fa45-704fbcd44dbc"
   },
   "outputs": [
    {
     "name": "stdout",
     "output_type": "stream",
     "text": [
      "Seeds name diehard\n"
     ]
    },
    {
     "data": {
      "image/png": "[encoded data removed]",
      "text/plain": [
       "<Figure size 432x288 with 1 Axes>"
      ]
     },
     "metadata": {
      "needs_background": "light"
     },
     "output_type": "display_data"
    },
    {
     "name": "stderr",
     "output_type": "stream",
     "text": [
      "MovieWriter imagemagick unavailable; trying to use <class 'matplotlib.animation.PillowWriter'> instead.\n"
     ]
    },
    {
     "name": "stdout",
     "output_type": "stream",
     "text": [
      "Seeds name boat\n"
     ]
    },
    {
     "data": {
      "image/png": "[encoded data removed]",
      "text/plain": [
       "<Figure size 432x288 with 1 Axes>"
      ]
     },
     "metadata": {
      "needs_background": "light"
     },
     "output_type": "display_data"
    },
    {
     "data": {
      "image/png": "[encoded data removed]",
      "text/plain": [
       "<Figure size 600x400 with 1 Axes>"
      ]
     },
     "metadata": {
      "needs_background": "light"
     },
     "output_type": "display_data"
    },
    {
     "name": "stderr",
     "output_type": "stream",
     "text": [
      "MovieWriter imagemagick unavailable; trying to use <class 'matplotlib.animation.PillowWriter'> instead.\n"
     ]
    },
    {
     "name": "stdout",
     "output_type": "stream",
     "text": [
      "Seeds name r_pentomino\n"
     ]
    },
    {
     "data": {
      "image/png": "[encoded data removed]",
      "text/plain": [
       "<Figure size 432x288 with 1 Axes>"
      ]
     },
     "metadata": {
      "needs_background": "light"
     },
     "output_type": "display_data"
    },
    {
     "data": {
      "image/png": "[encoded data removed]",
      "text/plain": [
       "<Figure size 600x400 with 1 Axes>"
      ]
     },
     "metadata": {
      "needs_background": "light"
     },
     "output_type": "display_data"
    },
    {
     "name": "stderr",
     "output_type": "stream",
     "text": [
      "MovieWriter imagemagick unavailable; trying to use <class 'matplotlib.animation.PillowWriter'> instead.\n"
     ]
    },
    {
     "name": "stdout",
     "output_type": "stream",
     "text": [
      "Seeds name pentadecathlon\n"
     ]
    },
    {
     "data": {
      "image/png": "[encoded data removed]",
      "text/plain": [
       "<Figure size 432x288 with 1 Axes>"
      ]
     },
     "metadata": {
      "needs_background": "light"
     },
     "output_type": "display_data"
    },
    {
     "data": {
      "image/png": "[encoded data removed]",
      "text/plain": [
       "<Figure size 600x400 with 1 Axes>"
      ]
     },
     "metadata": {
      "needs_background": "light"
     },
     "output_type": "display_data"
    }
   ],
   "source": [
    "for x in seeds:\n",
    "  print('Seeds name', x)\n",
    "  universe = np.zeros((100,100))\n",
    "  seed_array = np.array(seeds[x])\n",
    "  \n",
    "  x_start, y_start = 40,40\n",
    "  x_end, y_end = x_start + seed_array.shape[0], y_start + seed_array.shape[1]\n",
    "  universe[x_start:x_end, y_start:y_end] = seed_array\n",
    "  \n",
    "  plt.imshow(universe, cmap='binary')\n",
    "  plt.show()\n",
    "\n",
    "  universe = generation(universe)\n",
    "  plt.imshow(universe, cmap='binary')\n",
    "  #plt.show()\n",
    "  \n",
    "  # For Animation\n",
    "  # image quality in DPI\n",
    "  fig = plt.figure(dpi=100) \n",
    "  plt.axis(\"off\")\n",
    "  # number of universe iterations\n",
    "  n_generations = 500\n",
    "  # image list to store each images\n",
    "  ims = []\n",
    "  for i in range(n_generations):\n",
    "      ims.append((plt.imshow(universe, cmap=\"Purples\"),))\n",
    "      universe = generation(universe)\n",
    "  # interval (in milliseconds) between iterations\n",
    "  im_ani = animation.ArtistAnimation(fig, ims, interval=50, repeat_delay= 2000, blit=True)\n",
    "  \n",
    "  filename=str(x)+'.gif'\n",
    "  im_ani.save(filename, writer=\"imagemagick\")\n",
    "  "
   ]
  }
 ],
 "metadata": {
  "colab": {
   "collapsed_sections": [],
   "name": "Week 4 Assignment.ipynb",
   "provenance": []
  },
  "kernelspec": {
   "display_name": "Python 3",
   "language": "python",
   "name": "python3"
  },
  "language_info": {
   "codemirror_mode": {
    "name": "ipython",
    "version": 3
   },
   "file_extension": ".py",
   "mimetype": "text/x-python",
   "name": "python",
   "nbconvert_exporter": "python",
   "pygments_lexer": "ipython3",
   "version": "3.7.6"
  }
 },
 "nbformat": 4,
 "nbformat_minor": 1
}
