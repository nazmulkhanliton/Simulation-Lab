{
 "cells": [
  {
   "cell_type": "markdown",
   "metadata": {},
   "source": [
    "## Simulate using SEIRD epidemiological model"
   ]
  },
  {
   "cell_type": "markdown",
   "metadata": {},
   "source": [
    "The first step to begin the simulation is to determine the differential equations reggarding the model. The SEIRD model divides the population into 5 groups, those suseptible to the disease $S(t)$, those who got the disease, but didn't develop symptoms yet $E(t)$, the ones who are infected and already show symptoms $I(t)$, those who recovered from the disease $R(t)$ and acquried immunicity and at last, the ones who sadly died from the disease $D(t)$.\n",
    "\n",
    "The behavior of these populations is governed by exchanging rates, that is, rates in which individuals leave a group and get to another group.\n",
    "\n",
    "![models.png](models.png)\n",
    "\n",
    "With that in hands, we build the equations for the $S$ population\n",
    "\n",
    "$$\\frac{dS}{dt} = -\\beta  \\frac{S(t)I(t)}{N}$$\n",
    "\n",
    "the $E$ population\n",
    "\n",
    "$$\\frac{dE}{dt} = \\beta  \\frac{S(t)I(t)}{N} - \\alpha E(t)$$\n",
    "\n",
    "the $I$ population\n",
    "\n",
    "$$\\frac{dI}{dt} = \\alpha E(t) - \\gamma I(t) - \\delta I(t)$$\n",
    "\n",
    "the $R$ population\n",
    "\n",
    "$$\\frac{dR}{dt} = \\gamma I(t)$$\n",
    "\n",
    "and the $D$ population\n",
    "\n",
    "$$\\frac{dD}{dt} = \\delta I(t)$$"
   ]
  },
  {
   "cell_type": "code",
   "execution_count": 139,
   "metadata": {},
   "outputs": [],
   "source": [
    "import numpy as np\n",
    "from sklearn.metrics import mean_squared_error\n",
    "import pandas as pd\n",
    "from matplotlib import pyplot as plt"
   ]
  },
  {
   "cell_type": "code",
   "execution_count": 119,
   "metadata": {},
   "outputs": [],
   "source": [
    "# Population of india\n",
    "N = 1380004385"
   ]
  },
  {
   "cell_type": "code",
   "execution_count": 120,
   "metadata": {},
   "outputs": [
    {
     "data": {
      "text/html": [
       "<div>\n",
       "<style scoped>\n",
       "    .dataframe tbody tr th:only-of-type {\n",
       "        vertical-align: middle;\n",
       "    }\n",
       "\n",
       "    .dataframe tbody tr th {\n",
       "        vertical-align: top;\n",
       "    }\n",
       "\n",
       "    .dataframe thead th {\n",
       "        text-align: right;\n",
       "    }\n",
       "</style>\n",
       "<table border=\"1\" class=\"dataframe\">\n",
       "  <thead>\n",
       "    <tr style=\"text-align: right;\">\n",
       "      <th></th>\n",
       "      <th>Date</th>\n",
       "      <th>Country/Region</th>\n",
       "      <th>Province/State</th>\n",
       "      <th>Lat</th>\n",
       "      <th>Long</th>\n",
       "      <th>Confirmed</th>\n",
       "      <th>Recovered</th>\n",
       "      <th>Deaths</th>\n",
       "    </tr>\n",
       "  </thead>\n",
       "  <tbody>\n",
       "    <tr>\n",
       "      <th>0</th>\n",
       "      <td>2020-03-11</td>\n",
       "      <td>India</td>\n",
       "      <td>NaN</td>\n",
       "      <td>21</td>\n",
       "      <td>78</td>\n",
       "      <td>62</td>\n",
       "      <td>4</td>\n",
       "      <td>1</td>\n",
       "    </tr>\n",
       "    <tr>\n",
       "      <th>1</th>\n",
       "      <td>2020-03-12</td>\n",
       "      <td>India</td>\n",
       "      <td>NaN</td>\n",
       "      <td>21</td>\n",
       "      <td>78</td>\n",
       "      <td>73</td>\n",
       "      <td>4</td>\n",
       "      <td>1</td>\n",
       "    </tr>\n",
       "    <tr>\n",
       "      <th>2</th>\n",
       "      <td>2020-03-13</td>\n",
       "      <td>India</td>\n",
       "      <td>NaN</td>\n",
       "      <td>21</td>\n",
       "      <td>78</td>\n",
       "      <td>82</td>\n",
       "      <td>4</td>\n",
       "      <td>2</td>\n",
       "    </tr>\n",
       "    <tr>\n",
       "      <th>3</th>\n",
       "      <td>2020-03-14</td>\n",
       "      <td>India</td>\n",
       "      <td>NaN</td>\n",
       "      <td>21</td>\n",
       "      <td>78</td>\n",
       "      <td>102</td>\n",
       "      <td>4</td>\n",
       "      <td>2</td>\n",
       "    </tr>\n",
       "    <tr>\n",
       "      <th>4</th>\n",
       "      <td>2020-03-15</td>\n",
       "      <td>India</td>\n",
       "      <td>NaN</td>\n",
       "      <td>21</td>\n",
       "      <td>78</td>\n",
       "      <td>113</td>\n",
       "      <td>13</td>\n",
       "      <td>2</td>\n",
       "    </tr>\n",
       "  </tbody>\n",
       "</table>\n",
       "</div>"
      ],
      "text/plain": [
       "         Date Country/Region  Province/State  Lat  Long  Confirmed  Recovered  \\\n",
       "0  2020-03-11          India             NaN   21    78         62          4   \n",
       "1  2020-03-12          India             NaN   21    78         73          4   \n",
       "2  2020-03-13          India             NaN   21    78         82          4   \n",
       "3  2020-03-14          India             NaN   21    78        102          4   \n",
       "4  2020-03-15          India             NaN   21    78        113         13   \n",
       "\n",
       "   Deaths  \n",
       "0       1  \n",
       "1       1  \n",
       "2       2  \n",
       "3       2  \n",
       "4       2  "
      ]
     },
     "execution_count": 120,
     "metadata": {},
     "output_type": "execute_result"
    }
   ],
   "source": [
    "#data feeding\n",
    "df = pd.read_csv(\"india.csv\", header = 0) # dataset\n",
    "df.head()"
   ]
  },
  {
   "cell_type": "code",
   "execution_count": 121,
   "metadata": {},
   "outputs": [
    {
     "name": "stdout",
     "output_type": "stream",
     "text": [
      "Available 89 days\n"
     ]
    }
   ],
   "source": [
    "available = len(df.index)\n",
    "print(\"Available\", available, \"days\")"
   ]
  },
  {
   "cell_type": "code",
   "execution_count": null,
   "metadata": {},
   "outputs": [],
   "source": []
  },
  {
   "cell_type": "code",
   "execution_count": 122,
   "metadata": {},
   "outputs": [],
   "source": [
    "start_date = df['Date'].iloc[0]\n",
    "confirmed = df['Confirmed'].values.tolist()\n",
    "recovered = df['Recovered'].values.tolist()\n",
    "deaths = df['Deaths'].values.tolist()\n",
    "infected = [ c - r - d for (c, r, d) in zip(confirmed, recovered, deaths)]"
   ]
  },
  {
   "cell_type": "code",
   "execution_count": null,
   "metadata": {},
   "outputs": [],
   "source": []
  },
  {
   "cell_type": "code",
   "execution_count": 106,
   "metadata": {},
   "outputs": [
    {
     "name": "stdout",
     "output_type": "stream",
     "text": [
      "[62, 73, 82, 102, 113, 119, 142, 156, 194, 244, 330, 396, 499, 536, 657, 727, 887, 987, 1024, 1251, 1397, 1998, 2543, 2567, 3082, 3588, 4778, 5311, 5916, 6725, 7598, 8446, 9205, 10453, 11487, 12322, 13430, 14352, 15722, 17615, 18539, 20080, 21370, 23077, 24530, 26283, 27890, 29451, 31324, 33062, 34863, 37257, 39699, 42505, 46437, 49400, 52987, 56351, 59695, 62808, 67161, 70768, 74292, 78055, 81997, 85784, 90648, 95698, 100328, 106475, 112028, 118226, 124794, 131423, 138536, 144950, 150793, 158086, 165386, 173491, 181827, 190609, 198370, 207191, 216824, 226713, 236184, 246622, 257486]\n"
     ]
    }
   ],
   "source": [
    "print(confirmed)"
   ]
  },
  {
   "cell_type": "code",
   "execution_count": 107,
   "metadata": {},
   "outputs": [
    {
     "name": "stdout",
     "output_type": "stream",
     "text": [
      "2020-03-11\n"
     ]
    }
   ],
   "source": [
    "print(start_date)"
   ]
  },
  {
   "cell_type": "code",
   "execution_count": 123,
   "metadata": {},
   "outputs": [
    {
     "name": "stdout",
     "output_type": "stream",
     "text": [
      "['2020-03-11', '2020-03-12', '2020-03-13', '2020-03-14', '2020-03-15', '2020-03-16', '2020-03-17', '2020-03-18', '2020-03-19', '2020-03-20', '2020-03-21', '2020-03-22', '2020-03-23', '2020-03-24', '2020-03-25', '2020-03-26', '2020-03-27', '2020-03-28', '2020-03-29', '2020-03-30', '2020-03-31', '2020-04-01', '2020-04-02', '2020-04-03', '2020-04-04', '2020-04-05', '2020-04-06', '2020-04-07', '2020-04-08', '2020-04-09', '2020-04-10', '2020-04-11', '2020-04-12', '2020-04-13', '2020-04-14', '2020-04-15', '2020-04-16', '2020-04-17', '2020-04-18', '2020-04-19', '2020-04-20', '2020-04-21', '2020-04-22', '2020-04-23', '2020-04-24', '2020-04-25', '2020-04-26', '2020-04-27', '2020-04-28', '2020-04-29', '2020-04-30', '2020-05-01', '2020-05-02', '2020-05-03', '2020-05-04', '2020-05-05', '2020-05-06', '2020-05-07', '2020-05-08', '2020-05-09', '2020-05-10', '2020-05-11', '2020-05-12', '2020-05-13', '2020-05-14', '2020-05-15', '2020-05-16', '2020-05-17', '2020-05-18', '2020-05-19', '2020-05-20', '2020-05-21', '2020-05-22', '2020-05-23', '2020-05-24', '2020-05-25', '2020-05-26', '2020-05-27', '2020-05-28', '2020-05-29', '2020-05-30', '2020-05-31', '2020-06-01', '2020-06-02', '2020-06-03', '2020-06-04', '2020-06-05', '2020-06-06', '2020-06-07', '2020-06-08', '2020-06-09', '2020-06-10', '2020-06-11', '2020-06-12', '2020-06-13', '2020-06-14']\n",
      "96\n"
     ]
    }
   ],
   "source": [
    "#Helper Function\n",
    "\n",
    "t_max = available + 7\n",
    "\n",
    "date = np.array('2020-03-11', dtype=np.datetime64) \n",
    "dates = date + np.arange(t_max)\n",
    "str_dates = []\n",
    "for i in dates:\n",
    "    str_dates.append(str(i))\n",
    "\n",
    "print(str_dates)\n",
    "print(len(str_dates))"
   ]
  },
  {
   "cell_type": "code",
   "execution_count": 124,
   "metadata": {},
   "outputs": [],
   "source": [
    "def seird_model(init_vals, params, t):\n",
    "\n",
    "    DATE_0, S_0, E_0, I_0, R_0, D_0 = init_vals\n",
    "    DATE, S, E, I, R, D = [DATE_0], [S_0], [E_0], [I_0], [R_0], [D_0]\n",
    "    alpha, beta, gamma, delta = params\n",
    "    \n",
    "    ##### Create next t days ######\n",
    "    date = np.array(DATE, dtype=np.datetime64)\n",
    "    dates = date + np.arange(len(t))\n",
    "    str_dates = []\n",
    "    for i in dates:\n",
    "        str_dates.append(str(i))\n",
    "        \n",
    "    ##### End creating t days #####\n",
    "    for tic in t[1:]:\n",
    "\n",
    "        DATE.append(str_dates[tic])\n",
    "\n",
    "        next_S = S[-1] - ( beta * (S[-1] / N) * I[-1] )  # Susceptible\n",
    "        next_E = E[-1] + ( beta * (S[-1] / N) * I[-1] ) - ( alpha * E[-1] ) # Exposed\n",
    "        next_I = I[-1] + ( alpha * E[-1] ) - ( gamma * I[-1] ) - ( delta * I[-1] ) # Infected\n",
    "        next_R = R[-1] + ( gamma * I[-1] ) # Recovered\n",
    "        next_D = D[-1] + ( delta * I[-1] ) # Deaths\n",
    "        \n",
    "        S.append(next_S)\n",
    "        E.append(next_E)\n",
    "        I.append(next_I)\n",
    "        R.append(next_R)\n",
    "        D.append(next_D)\n",
    "\n",
    "\n",
    "    return np.stack([DATE, S, E, I, R, D]).T"
   ]
  },
  {
   "cell_type": "code",
   "execution_count": 125,
   "metadata": {},
   "outputs": [],
   "source": [
    "# Spliting the data for one day rolling window approach\n",
    "\n",
    "train_min = 1\n",
    "train_max = available + 1\n",
    "\n",
    "inf_train = []\n",
    "rec_train = []\n",
    "death_train = []\n",
    "\n",
    "for i in range(train_min+1, train_max):\n",
    "    j = i - 2\n",
    "    inf_train.append(infected[j:i])\n",
    "    rec_train.append(recovered[j:i])\n",
    "    death_train.append(deaths[j:i])"
   ]
  },
  {
   "cell_type": "code",
   "execution_count": 127,
   "metadata": {},
   "outputs": [
    {
     "name": "stdout",
     "output_type": "stream",
     "text": [
      "0 [4, 4]\n",
      "1 [4, 4]\n",
      "2 [4, 4]\n",
      "3 [4, 13]\n",
      "4 [13, 13]\n",
      "5 [13, 14]\n",
      "6 [14, 14]\n",
      "7 [14, 15]\n",
      "8 [15, 20]\n",
      "9 [20, 23]\n",
      "10 [23, 27]\n",
      "11 [27, 27]\n",
      "12 [27, 40]\n",
      "13 [40, 43]\n",
      "14 [43, 45]\n",
      "15 [45, 73]\n",
      "16 [73, 84]\n",
      "17 [84, 95]\n",
      "18 [95, 102]\n",
      "19 [102, 123]\n",
      "20 [123, 148]\n",
      "21 [148, 191]\n",
      "22 [191, 192]\n",
      "23 [192, 229]\n",
      "24 [229, 229]\n",
      "25 [229, 375]\n",
      "26 [375, 421]\n",
      "27 [421, 506]\n",
      "28 [506, 620]\n",
      "29 [620, 774]\n",
      "30 [774, 969]\n",
      "31 [969, 1080]\n",
      "32 [1080, 1181]\n",
      "33 [1181, 1359]\n",
      "34 [1359, 1432]\n",
      "35 [1432, 1768]\n",
      "36 [1768, 2041]\n",
      "37 [2041, 2463]\n",
      "38 [2463, 2854]\n",
      "39 [2854, 3273]\n",
      "40 [3273, 3975]\n",
      "41 [3975, 4370]\n",
      "42 [4370, 5012]\n",
      "43 [5012, 5498]\n",
      "44 [5498, 5939]\n",
      "45 [5939, 6523]\n",
      "46 [6523, 7137]\n",
      "47 [7137, 7747]\n",
      "48 [7747, 8437]\n",
      "49 [8437, 9068]\n",
      "50 [9068, 10007]\n",
      "51 [10007, 10819]\n",
      "52 [10819, 11775]\n",
      "53 [11775, 12847]\n",
      "54 [12847, 14142]\n",
      "55 [14142, 15331]\n",
      "56 [15331, 16776]\n",
      "57 [16776, 17887]\n",
      "58 [17887, 19301]\n",
      "59 [19301, 20969]\n",
      "60 [20969, 22549]\n",
      "61 [22549, 24420]\n",
      "62 [24420, 26400]\n",
      "63 [26400, 27969]\n",
      "64 [27969, 30258]\n",
      "65 [30258, 34224]\n",
      "66 [34224, 36795]\n",
      "67 [36795, 39233]\n",
      "68 [39233, 42309]\n",
      "69 [42309, 45422]\n",
      "70 [45422, 48553]\n",
      "71 [48553, 51824]\n",
      "72 [51824, 54385]\n",
      "73 [54385, 57692]\n",
      "74 [57692, 60706]\n",
      "75 [60706, 64277]\n",
      "76 [64277, 67749]\n",
      "77 [67749, 70920]\n",
      "78 [70920, 82627]\n",
      "79 [82627, 86936]\n",
      "80 [86936, 91852]\n",
      "81 [91852, 95754]\n",
      "82 [95754, 100285]\n",
      "83 [100285, 104071]\n",
      "84 [104071, 108450]\n",
      "85 [108450, 113233]\n",
      "86 [113233, 118695]\n",
      "87 [118695, 123848]\n"
     ]
    }
   ],
   "source": [
    "for i in range(len(rec_train)): \n",
    "    print(i, rec_train[i])"
   ]
  },
  {
   "cell_type": "code",
   "execution_count": 128,
   "metadata": {},
   "outputs": [
    {
     "name": "stdout",
     "output_type": "stream",
     "text": [
      "[0 1 2]\n"
     ]
    }
   ],
   "source": [
    "t2 = np.arange(0, 3, 1)\n",
    "print(t2)"
   ]
  },
  {
   "cell_type": "code",
   "execution_count": 129,
   "metadata": {},
   "outputs": [
    {
     "name": "stdout",
     "output_type": "stream",
     "text": [
      "57 69\n",
      "2020-06-02\n",
      "2020-06-03\n",
      "2020-06-04\n",
      "2020-06-05\n",
      "2020-06-06\n"
     ]
    }
   ],
   "source": [
    "last5_vals = []\n",
    "last5_params = []\n",
    "\n",
    "t_incub = 5  # Assumption 5 days\n",
    "\n",
    "for sample in range(len(inf_train)):\n",
    "\n",
    "    i_0 = inf_train[sample][0]\n",
    "    i_1 = inf_train[sample][1]\n",
    "    i_diff = i_1 - i_0\n",
    "\n",
    "\n",
    "    r_0 = rec_train[sample][0]\n",
    "    r_1 = rec_train[sample][1]\n",
    "    r_diff = r_1 - r_0\n",
    "\n",
    "\n",
    "    d_0 = death_train[sample][0]\n",
    "    d_1 = death_train[sample][1]\n",
    "    d_diff = d_1 - d_0\n",
    "\n",
    "\n",
    "    if (sample == 0):\n",
    "\n",
    "        e_0 = confirmed[t_incub] - confirmed[sample]\n",
    "        e_1 = confirmed[t_incub + 1] - confirmed[sample + 1]\n",
    "        e_diff = e_1 - e_0\n",
    "        print(e_0,e_1)\n",
    "        s_0 = N - e_0 - i_0 - r_0 - d_0\n",
    "\n",
    "\n",
    "    alpha = ( i_diff + r_diff + d_diff) / e_0  # alpha\n",
    "    beta = ( ( ( e_diff + i_diff + r_diff + d_diff) * N ) / ( s_0 * i_0 ) ) # beta\n",
    "    gamma = r_diff / i_0  # gamma\n",
    "    delta = d_diff / i_0  # delta\n",
    "\n",
    "    init_vals = str_dates[sample], s_0, e_0, i_0, r_0, d_0\n",
    "    params = alpha, beta, gamma, delta\n",
    "    pred = seird_model(init_vals, params, t2)\n",
    "    # print(pred)\n",
    "    # Date: 0, S:1, E:2, I:3, R:4, D:5\n",
    "    s_0 = float(pred[1][1])\n",
    "    \n",
    "    e_0 = float(pred[1][2])\n",
    "    e_1 = float(pred[2][2])\n",
    "    e_diff = e_1 - e_0\n",
    "\n",
    "    # Store Last five cases for predecting future\n",
    "    if ((len( inf_train )  - sample ) <= 5):\n",
    "        print(str_dates[sample])\n",
    "        last5_vals.append(init_vals)\n",
    "        last5_params.append(params)"
   ]
  },
  {
   "cell_type": "code",
   "execution_count": 130,
   "metadata": {},
   "outputs": [
    {
     "name": "stdout",
     "output_type": "stream",
     "text": [
      "('2020-06-02', 1352226363.8535762, 566445.1464237358, 101077, 100285, 5829)\n",
      "('2020-06-03', 1352193074.0114532, 590101.9885468835, 106665, 104071, 6088)\n",
      "('2020-06-04', 1352158090.928749, 615196.071251014, 111900, 108450, 6363)\n",
      "('2020-06-05', 1352122230.3942435, 641585.6057565685, 116302, 113233, 6649)\n",
      "('2020-06-06', 1352084399.4108748, 668978.5891252063, 120981, 118695, 6946)\n"
     ]
    }
   ],
   "source": [
    "for v in last5_vals: \n",
    "    print(v)"
   ]
  },
  {
   "cell_type": "code",
   "execution_count": 131,
   "metadata": {},
   "outputs": [
    {
     "name": "stdout",
     "output_type": "stream",
     "text": [
      "(0.017006059740856044, 0.3295397362154528, 0.03745659249878805, 0.0025624029205457226)\n",
      "(0.016758120107935072, 0.3281672430711372, 0.04105376646510102, 0.0025781652838325598)\n",
      "(0.015395091813152389, 0.32066901469849524, 0.04274352100089365, 0.002555853440571939)\n",
      "(0.01626906823710818, 0.3254934778038102, 0.04696393871128614, 0.0025536964110677374)\n",
      "(0.016239682669375668, 0.325330876835034, 0.04259346508955952, 0.002157363552954596)\n"
     ]
    }
   ],
   "source": [
    "for p in last5_params: \n",
    "    print(p)"
   ]
  },
  {
   "cell_type": "markdown",
   "metadata": {},
   "source": [
    "Based on each learned parameter, we will predict values from 10 April to 16 April"
   ]
  },
  {
   "cell_type": "code",
   "execution_count": 134,
   "metadata": {},
   "outputs": [
    {
     "name": "stdout",
     "output_type": "stream",
     "text": [
      "[ 0  1  2  3  4  5  6  7  8  9 10 11 12]\n"
     ]
    }
   ],
   "source": [
    "# How many days should we use ?? and Why ?? \n",
    "t7 = np.arange(0, 13, 1)\n",
    "print(t7)"
   ]
  },
  {
   "cell_type": "code",
   "execution_count": 137,
   "metadata": {
    "scrolled": true
   },
   "outputs": [
    {
     "name": "stdout",
     "output_type": "stream",
     "text": [
      "Predictions using 2020-06-02 parameters\n",
      "\n",
      "-----------------------------------------------------\n",
      "Date \t\tInfected \tRecovered \tDeaths\n",
      "-----------------------------------------------------\n",
      "2020-06-08 \t 137629 \t\t 126284 \t\t 7607\n",
      "2020-06-09 \t 144548 \t\t 131439 \t\t 7960\n",
      "2020-06-10 \t 151749 \t\t 136853 \t\t 8330\n",
      "2020-06-11 \t 159251 \t\t 142537 \t\t 8719\n",
      "2020-06-12 \t 167071 \t\t 148502 \t\t 9127\n",
      "2020-06-13 \t 175229 \t\t 154760 \t\t 9555\n",
      "2020-06-14 \t 183743 \t\t 161324 \t\t 10004\n",
      "----------------------------------------------------\n",
      "\n",
      "\n",
      "Predictions using 2020-06-03 parameters\n",
      "\n",
      "-----------------------------------------------------\n",
      "Date \t\tInfected \tRecovered \tDeaths\n",
      "-----------------------------------------------------\n",
      "2020-06-08 \t 134895 \t\t 128196 \t\t 7603\n",
      "2020-06-09 \t 141225 \t\t 133734 \t\t 7950\n",
      "2020-06-10 \t 147815 \t\t 139532 \t\t 8314\n",
      "2020-06-11 \t 154681 \t\t 145600 \t\t 8696\n",
      "2020-06-12 \t 161836 \t\t 151951 \t\t 9094\n",
      "2020-06-13 \t 169295 \t\t 158595 \t\t 9512\n",
      "2020-06-14 \t 177076 \t\t 165545 \t\t 9948\n",
      "----------------------------------------------------\n",
      "\n",
      "\n",
      "Predictions using 2020-06-04 parameters\n",
      "\n",
      "-----------------------------------------------------\n",
      "Date \t\tInfected \tRecovered \tDeaths\n",
      "-----------------------------------------------------\n",
      "2020-06-08 \t 130773 \t\t 128746 \t\t 7576\n",
      "2020-06-09 \t 136041 \t\t 134336 \t\t 7910\n",
      "2020-06-10 \t 141544 \t\t 140151 \t\t 8258\n",
      "2020-06-11 \t 147288 \t\t 146201 \t\t 8620\n",
      "2020-06-12 \t 153283 \t\t 152496 \t\t 8996\n",
      "2020-06-13 \t 159538 \t\t 159048 \t\t 9388\n",
      "2020-06-14 \t 166063 \t\t 165868 \t\t 9796\n",
      "----------------------------------------------------\n",
      "\n",
      "\n",
      "Predictions using 2020-06-05 parameters\n",
      "\n",
      "-----------------------------------------------------\n",
      "Date \t\tInfected \tRecovered \tDeaths\n",
      "-----------------------------------------------------\n",
      "2020-06-08 \t 130987 \t\t 130288 \t\t 7576\n",
      "2020-06-09 \t 136329 \t\t 136439 \t\t 7910\n",
      "2020-06-10 \t 141908 \t\t 142842 \t\t 8259\n",
      "2020-06-11 \t 147730 \t\t 149507 \t\t 8621\n",
      "2020-06-12 \t 153807 \t\t 156445 \t\t 8998\n",
      "2020-06-13 \t 160146 \t\t 163668 \t\t 9391\n",
      "2020-06-14 \t 166758 \t\t 171189 \t\t 9800\n",
      "----------------------------------------------------\n",
      "\n",
      "\n",
      "Predictions using 2020-06-06 parameters\n",
      "\n",
      "-----------------------------------------------------\n",
      "Date \t\tInfected \tRecovered \tDeaths\n",
      "-----------------------------------------------------\n",
      "2020-06-08 \t 132099 \t\t 129233 \t\t 7479\n",
      "2020-06-09 \t 137997 \t\t 134859 \t\t 7764\n",
      "2020-06-10 \t 144137 \t\t 140737 \t\t 8062\n",
      "2020-06-11 \t 150531 \t\t 146876 \t\t 8373\n",
      "2020-06-12 \t 157191 \t\t 153288 \t\t 8698\n",
      "2020-06-13 \t 164130 \t\t 159983 \t\t 9037\n",
      "2020-06-14 \t 171361 \t\t 166974 \t\t 9391\n",
      "----------------------------------------------------\n",
      "\n",
      "\n"
     ]
    }
   ],
   "source": [
    "for z in range(1, len(last5_params)+1):\n",
    "    results = seird_model(last5_vals[z-1], last5_params[z-1], t7)\n",
    "    t_z = np.arange(7 - z, 14 - z, 1)\n",
    "    print(\"Predictions using\", last5_vals[z-1][0], \"parameters\\n\")\n",
    "    print(\"-----------------------------------------------------\")\n",
    "    print(\"Date\", \"\\t\\tInfected\", \"\\tRecovered\", \"\\tDeaths\")\n",
    "    print(\"-----------------------------------------------------\")\n",
    "    for day in t_z:\n",
    "        print(results[day][0], \"\\t\", int(float(results[day][3])), \"\\t\\t\", int(float(results[day][4])), \"\\t\\t\", int(float(results[day][5])) )\n",
    "    print(\"----------------------------------------------------\\n\\n\")"
   ]
  },
  {
   "cell_type": "code",
   "execution_count": null,
   "metadata": {},
   "outputs": [],
   "source": []
  }
 ],
 "metadata": {
  "kernelspec": {
   "display_name": "Python 3",
   "language": "python",
   "name": "python3"
  },
  "language_info": {
   "codemirror_mode": {
    "name": "ipython",
    "version": 3
   },
   "file_extension": ".py",
   "mimetype": "text/x-python",
   "name": "python",
   "nbconvert_exporter": "python",
   "pygments_lexer": "ipython3",
   "version": "3.7.6"
  }
 },
 "nbformat": 4,
 "nbformat_minor": 2
}
